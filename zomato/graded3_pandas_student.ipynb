{
 "cells": [
  {
   "cell_type": "markdown",
   "id": "174e376c",
   "metadata": {
    "id": "174e376c"
   },
   "source": [
    "Josh Austin Mikhail T. Natividad\\\n",
    "BSCS-ST\n",
    "\n",
    "references:\n",
    "- https://pandas.pydata.org/docs/\n",
    "\n",
    "# Zomato Exercise"
   ]
  },
  {
   "cell_type": "markdown",
   "id": "2d84fdf3",
   "metadata": {
    "id": "2d84fdf3"
   },
   "source": [
    "Zomato is a restaurant aggregator website. The platform provides information, menus and user-reviews of restaurants as well as food delivery options from partner restaurants in select cities. You have been provided 3 datasets:\n",
    "\n",
    "- zomato.csv contains restaurant information like average_cost_for_two, cuisines\n",
    "- location.csv contains location of the restaurants like address, city, locality & etc\n",
    "- ratings.csv contains aggregate rating for each restaurant\n",
    "\n",
    "The different files are connected using the `id` columns which can be found in the different files. The id column is a unique identifier to represent a restaurant. You can use this to **merge** the different files."
   ]
  },
  {
   "cell_type": "code",
   "execution_count": 1,
   "id": "5337de5f",
   "metadata": {
    "ExecuteTime": {
     "end_time": "2024-09-27T16:53:19.918970Z",
     "start_time": "2024-09-27T16:53:19.915679Z"
    },
    "id": "5337de5f"
   },
   "outputs": [],
   "source": [
    "from heapq import merge\n",
    "\n",
    "import pandas as pd\n",
    "import numpy as np"
   ]
  },
  {
   "cell_type": "markdown",
   "id": "77605fbc",
   "metadata": {
    "id": "77605fbc"
   },
   "source": [
    "1. Merge the zomato, location & ratings file into a signle dataframe and store it to the `merged_df` variable **(3pts)**"
   ]
  },
  {
   "cell_type": "code",
   "execution_count": 2,
   "id": "ddbd0bb1",
   "metadata": {
    "ExecuteTime": {
     "end_time": "2024-09-27T16:53:20.026298Z",
     "start_time": "2024-09-27T16:53:19.931024Z"
    },
    "id": "ddbd0bb1"
   },
   "outputs": [
    {
     "data": {
      "text/plain": [
       "(6830, 35)"
      ]
     },
     "execution_count": 2,
     "metadata": {},
     "output_type": "execute_result"
    }
   ],
   "source": [
    "zomato_df = pd.read_csv('zomato.csv')\n",
    "location_df = pd.read_csv('location.csv')\n",
    "ratings_df = pd.read_csv('ratings.csv')\n",
    "\n",
    "merged_df = pd.merge(zomato_df, location_df, on='id')\n",
    "merged_df = pd.merge(merged_df, ratings_df, on='id')\n",
    "merged_df.shape"
   ]
  },
  {
   "cell_type": "code",
   "execution_count": 3,
   "id": "b2a86a44",
   "metadata": {
    "ExecuteTime": {
     "end_time": "2024-09-27T16:53:20.143544Z",
     "start_time": "2024-09-27T16:53:20.140862Z"
    },
    "id": "b2a86a44"
   },
   "outputs": [],
   "source": [
    "assert (6830, 35)==merged_df.shape\n",
    "\n",
    "cols = ['id', 'address', 'city', 'city_id', 'country_id', 'latitude',\n",
    "       'locality', 'locality_verbose', 'longitude', 'zipcode',\n",
    "       'aggregate_rating', 'rating_color', 'rating_text', 'votes',\n",
    "       'average_cost_for_two', 'book_url', 'cuisines', 'currency', 'deeplink',\n",
    "       'events_url', 'featured_image', 'has_online_delivery',\n",
    "       'has_table_booking', 'include_bogo_offers', 'is_book_form_web_view',\n",
    "       'is_delivering_now', 'is_table_reservation_supported',\n",
    "       'is_zomato_book_res', 'menu_url', 'mezzo_provider', 'name',\n",
    "       'photos_url', 'price_range', 'thumb', 'url']\n",
    "len(cols)\n",
    "\n",
    "assert sorted(merged_df.columns) == sorted(cols)"
   ]
  },
  {
   "cell_type": "markdown",
   "id": "02223abe",
   "metadata": {
    "id": "02223abe"
   },
   "source": [
    "2. Create a function that returns the average aggregate rating for each city. Expected returned value is a Series datatype which contains name of city as index and average aggregate rating as value. **(2pts)**"
   ]
  },
  {
   "cell_type": "code",
   "execution_count": 4,
   "id": "bd7d8f34",
   "metadata": {
    "ExecuteTime": {
     "end_time": "2024-09-27T16:53:20.150532Z",
     "start_time": "2024-09-27T16:53:20.148695Z"
    },
    "id": "bd7d8f34"
   },
   "outputs": [],
   "source": [
    "def exercise_2(merged_df):\n",
    "    return merged_df.groupby('city')['aggregate_rating'].mean()"
   ]
  },
  {
   "cell_type": "code",
   "execution_count": 5,
   "id": "10e5b4c1",
   "metadata": {
    "ExecuteTime": {
     "end_time": "2024-09-27T16:53:20.174087Z",
     "start_time": "2024-09-27T16:53:20.168498Z"
    },
    "id": "10e5b4c1"
   },
   "outputs": [],
   "source": [
    "res_series = exercise_2(merged_df)\n",
    "assert True == np.isclose(3.302075, res_series[res_series.index == 'Pasay City'],\n",
    "                          rtol=1e-05, atol=1e-08, equal_nan=False)[0]\n",
    "assert True == np.isclose(1.890741, res_series[res_series.index == 'Valenzuela City'],\n",
    "                          rtol=1e-05, atol=1e-08, equal_nan=False)[0]\n",
    "assert True == np.isclose(1.558333, res_series[res_series.index == 'Malabon City'],\n",
    "                          rtol=1e-05, atol=1e-08, equal_nan=False)[0]"
   ]
  },
  {
   "cell_type": "markdown",
   "id": "5db591ac",
   "metadata": {
    "id": "5db591ac"
   },
   "source": [
    "3. Using the apply function of pandas convert the rating_text to a numeric equivalent. You are to introduce a new column in merged_df called `rating_numeric` which is based on the value from rating_text: **(3pts)**\n",
    "\n",
    "Excellent = 5 <br>\n",
    "Very Good = 4 <br>\n",
    "Good = 3 <br>\n",
    "Average = 2 <br>\n",
    "Poor = 1 <br>\n",
    "Not rated = 0 <br>"
   ]
  },
  {
   "cell_type": "code",
   "execution_count": 6,
   "id": "41293771",
   "metadata": {
    "ExecuteTime": {
     "end_time": "2024-09-27T16:53:20.192969Z",
     "start_time": "2024-09-27T16:53:20.189106Z"
    },
    "id": "41293771"
   },
   "outputs": [],
   "source": [
    "map = {\n",
    "    \"Excellent\": 5,\n",
    "    \"Very Good\": 4,\n",
    "    \"Good\": 3,\n",
    "    \"Average\": 2,\n",
    "    \"Poor\": 1,\n",
    "    \"Not rated\": 0\n",
    "}\n",
    "merged_df['rating_numeric'] = merged_df['rating_text'].apply(lambda x : map.get(x, 0))"
   ]
  },
  {
   "cell_type": "code",
   "execution_count": 7,
   "id": "c62df922",
   "metadata": {
    "ExecuteTime": {
     "end_time": "2024-09-27T16:53:20.213827Z",
     "start_time": "2024-09-27T16:53:20.209866Z"
    },
    "id": "c62df922"
   },
   "outputs": [],
   "source": [
    "assert 868 == merged_df[merged_df.rating_numeric == 0].shape[0]\n",
    "assert True == ('rating_numeric' in merged_df.columns)"
   ]
  },
  {
   "cell_type": "markdown",
   "id": "97ec4197",
   "metadata": {
    "id": "97ec4197"
   },
   "source": [
    "4. Create a function which filters the merged dataframe to only contain rows coming in from a specific city. Expected returned value is a dataframe **(2pts)**"
   ]
  },
  {
   "cell_type": "code",
   "execution_count": 8,
   "id": "9773b18e",
   "metadata": {
    "ExecuteTime": {
     "end_time": "2024-09-27T16:53:20.229637Z",
     "start_time": "2024-09-27T16:53:20.227361Z"
    },
    "id": "9773b18e"
   },
   "outputs": [],
   "source": [
    "def exercise_4(merged_df, city):\n",
    "    return merged_df[merged_df[\"city\"] == city]"
   ]
  },
  {
   "cell_type": "code",
   "execution_count": 9,
   "id": "1ca29a81",
   "metadata": {
    "ExecuteTime": {
     "end_time": "2024-09-27T16:53:20.248477Z",
     "start_time": "2024-09-27T16:53:20.243446Z"
    },
    "id": "1ca29a81"
   },
   "outputs": [],
   "source": [
    "    \n",
    "assert 'Makati City' == exercise_4(merged_df, 'Makati City').city.unique()[0]\n",
    "assert (976, 36) == exercise_4(merged_df, 'Makati City').shape\n",
    "\n",
    "assert 'Mandaluyong City' == exercise_4(merged_df, 'Mandaluyong City').city.unique()[0]\n",
    "assert (443, 36) == exercise_4(merged_df, 'Mandaluyong City').shape\n",
    "\n",
    "assert (0, 36) == exercise_4(merged_df, 'Quezon  City').shape"
   ]
  },
  {
   "cell_type": "markdown",
   "id": "ca7bf3c1",
   "metadata": {
    "id": "ca7bf3c1"
   },
   "source": [
    "5. Create a function to filter the dataframe to only contain certain columns passed in the function. Expected returned value is a dataframe **(1pt)**"
   ]
  },
  {
   "cell_type": "code",
   "execution_count": 10,
   "id": "59787577",
   "metadata": {
    "ExecuteTime": {
     "end_time": "2024-09-27T16:53:20.262359Z",
     "start_time": "2024-09-27T16:53:20.260302Z"
    },
    "id": "59787577"
   },
   "outputs": [],
   "source": [
    "def exercise_5(merged_df, cols_to_filter):\n",
    "    return merged_df[cols_to_filter]"
   ]
  },
  {
   "cell_type": "code",
   "execution_count": 11,
   "id": "da27c054",
   "metadata": {
    "ExecuteTime": {
     "end_time": "2024-09-27T16:53:20.278342Z",
     "start_time": "2024-09-27T16:53:20.274451Z"
    },
    "id": "da27c054"
   },
   "outputs": [],
   "source": [
    "cols = ['name', 'cuisines', 'city', 'aggregate_rating']\n",
    "assert sorted(cols) == sorted(exercise_5(merged_df, cols).columns)\n",
    "assert (6830, 4) == exercise_5(merged_df, cols).shape\n",
    "\n",
    "cols = ['average_cost_for_two', 'book_url', 'cuisines', 'currency', 'deeplink',\n",
    "       'events_url', 'featured_image', 'has_online_delivery',\n",
    "       'has_table_booking', 'include_bogo_offers', 'is_book_form_web_view']\n",
    "assert sorted(cols) == sorted(exercise_5(merged_df, cols).columns)\n",
    "assert (6830, 11) == exercise_5(merged_df, cols).shape\n"
   ]
  },
  {
   "cell_type": "markdown",
   "id": "d69c7e2e",
   "metadata": {
    "id": "d69c7e2e"
   },
   "source": [
    "6.  What is the most common restaurant name in the dataset? **(2pts)** Write down your answer and show code used to come up with the answer. "
   ]
  },
  {
   "cell_type": "markdown",
   "id": "d68c32108677991c",
   "metadata": {},
   "source": [
    "Starbucks (99 instances)"
   ]
  },
  {
   "cell_type": "code",
   "execution_count": 12,
   "id": "e682c1e3adaf711e",
   "metadata": {
    "ExecuteTime": {
     "end_time": "2024-09-27T16:53:20.297563Z",
     "start_time": "2024-09-27T16:53:20.291192Z"
    }
   },
   "outputs": [
    {
     "data": {
      "text/plain": [
       "name\n",
       "Starbucks                         99\n",
       "Jollibee                          77\n",
       "McDonald's                        66\n",
       "KFC                               54\n",
       "BonChon Chicken                   49\n",
       "                                  ..\n",
       "HotBox Kitchen                     1\n",
       "Hotel Bar                          1\n",
       "Hotties Gourmet                    1\n",
       "House Manila - Remington Hotel     1\n",
       "¡VENGO!                            1\n",
       "Length: 3286, dtype: int64"
      ]
     },
     "execution_count": 12,
     "metadata": {},
     "output_type": "execute_result"
    }
   ],
   "source": [
    "merged_df.groupby('name').size().sort_values(ascending=False)"
   ]
  },
  {
   "cell_type": "markdown",
   "id": "7675b4b1",
   "metadata": {
    "id": "7675b4b1"
   },
   "source": [
    "7. Which restaurant has the most expensive average cost for two? **(2pts)** Write down your answer and show code used to come up with the answer."
   ]
  },
  {
   "cell_type": "markdown",
   "id": "4178d419dcb66307",
   "metadata": {},
   "source": [
    "The Tasting Room"
   ]
  },
  {
   "cell_type": "code",
   "execution_count": 13,
   "id": "b447b440",
   "metadata": {
    "ExecuteTime": {
     "end_time": "2024-09-27T16:53:20.472259Z",
     "start_time": "2024-09-27T16:53:20.466120Z"
    },
    "id": "b447b440"
   },
   "outputs": [
    {
     "data": {
      "text/html": [
       "<div>\n",
       "<style scoped>\n",
       "    .dataframe tbody tr th:only-of-type {\n",
       "        vertical-align: middle;\n",
       "    }\n",
       "\n",
       "    .dataframe tbody tr th {\n",
       "        vertical-align: top;\n",
       "    }\n",
       "\n",
       "    .dataframe thead th {\n",
       "        text-align: right;\n",
       "    }\n",
       "</style>\n",
       "<table border=\"1\" class=\"dataframe\">\n",
       "  <thead>\n",
       "    <tr style=\"text-align: right;\">\n",
       "      <th></th>\n",
       "      <th>name</th>\n",
       "      <th>average_cost_for_two</th>\n",
       "    </tr>\n",
       "  </thead>\n",
       "  <tbody>\n",
       "    <tr>\n",
       "      <th>1713</th>\n",
       "      <td>The Tasting Room</td>\n",
       "      <td>10000</td>\n",
       "    </tr>\n",
       "    <tr>\n",
       "      <th>5</th>\n",
       "      <td>Spiral - Sofitel Philippine Plaza Manila</td>\n",
       "      <td>6000</td>\n",
       "    </tr>\n",
       "    <tr>\n",
       "      <th>1728</th>\n",
       "      <td>Medley Buffet - Okada Manila</td>\n",
       "      <td>5400</td>\n",
       "    </tr>\n",
       "    <tr>\n",
       "      <th>1750</th>\n",
       "      <td>Wolfgang's Steakhouse by Wolfgang Zwiener</td>\n",
       "      <td>5100</td>\n",
       "    </tr>\n",
       "    <tr>\n",
       "      <th>2039</th>\n",
       "      <td>Wolfgang's Steakhouse by Wolfgang Zwiener</td>\n",
       "      <td>5100</td>\n",
       "    </tr>\n",
       "    <tr>\n",
       "      <th>...</th>\n",
       "      <td>...</td>\n",
       "      <td>...</td>\n",
       "    </tr>\n",
       "    <tr>\n",
       "      <th>6796</th>\n",
       "      <td>Katherine's Cafe</td>\n",
       "      <td>0</td>\n",
       "    </tr>\n",
       "    <tr>\n",
       "      <th>4714</th>\n",
       "      <td>The Baking Crew</td>\n",
       "      <td>0</td>\n",
       "    </tr>\n",
       "    <tr>\n",
       "      <th>6482</th>\n",
       "      <td>Toritake</td>\n",
       "      <td>0</td>\n",
       "    </tr>\n",
       "    <tr>\n",
       "      <th>6192</th>\n",
       "      <td>Sari Salo</td>\n",
       "      <td>0</td>\n",
       "    </tr>\n",
       "    <tr>\n",
       "      <th>6509</th>\n",
       "      <td>KapeTayo</td>\n",
       "      <td>0</td>\n",
       "    </tr>\n",
       "  </tbody>\n",
       "</table>\n",
       "<p>6830 rows × 2 columns</p>\n",
       "</div>"
      ],
      "text/plain": [
       "                                           name  average_cost_for_two\n",
       "1713                           The Tasting Room                 10000\n",
       "5      Spiral - Sofitel Philippine Plaza Manila                  6000\n",
       "1728               Medley Buffet - Okada Manila                  5400\n",
       "1750  Wolfgang's Steakhouse by Wolfgang Zwiener                  5100\n",
       "2039  Wolfgang's Steakhouse by Wolfgang Zwiener                  5100\n",
       "...                                         ...                   ...\n",
       "6796                           Katherine's Cafe                     0\n",
       "4714                            The Baking Crew                     0\n",
       "6482                                   Toritake                     0\n",
       "6192                                  Sari Salo                     0\n",
       "6509                                   KapeTayo                     0\n",
       "\n",
       "[6830 rows x 2 columns]"
      ]
     },
     "execution_count": 13,
     "metadata": {},
     "output_type": "execute_result"
    }
   ],
   "source": [
    "merged_df[['name','average_cost_for_two']].sort_values('average_cost_for_two', ascending=False)"
   ]
  },
  {
   "cell_type": "markdown",
   "id": "af873fb7",
   "metadata": {
    "id": "af873fb7"
   },
   "source": [
    "8. How many restaurants do not have a zipcode? **(1pt)** Write down your answer and show code used to come up with the answer."
   ]
  },
  {
   "cell_type": "markdown",
   "id": "a1426c0b1537a2c6",
   "metadata": {},
   "source": [
    "6713 restaurants"
   ]
  },
  {
   "cell_type": "code",
   "execution_count": 14,
   "id": "43f1234a",
   "metadata": {
    "ExecuteTime": {
     "end_time": "2024-09-27T16:53:20.504271Z",
     "start_time": "2024-09-27T16:53:20.500126Z"
    },
    "id": "43f1234a"
   },
   "outputs": [
    {
     "data": {
      "text/plain": [
       "np.int64(6713)"
      ]
     },
     "execution_count": 14,
     "metadata": {},
     "output_type": "execute_result"
    }
   ],
   "source": [
    "merged_df['zipcode'].isnull().sum()"
   ]
  },
  {
   "cell_type": "markdown",
   "id": "9347ac03",
   "metadata": {
    "id": "9347ac03"
   },
   "source": [
    "9. How many restaurants in the dataset allow online delivery? **(1pt)** Write down your answer and show code used to come up with the answer. <br><br> 0 restaurants"
   ]
  },
  {
   "cell_type": "code",
   "execution_count": 15,
   "id": "24b62212",
   "metadata": {
    "ExecuteTime": {
     "end_time": "2024-09-27T16:53:20.580477Z",
     "start_time": "2024-09-27T16:53:20.576022Z"
    },
    "id": "24b62212"
   },
   "outputs": [
    {
     "data": {
      "text/html": [
       "<div>\n",
       "<style scoped>\n",
       "    .dataframe tbody tr th:only-of-type {\n",
       "        vertical-align: middle;\n",
       "    }\n",
       "\n",
       "    .dataframe tbody tr th {\n",
       "        vertical-align: top;\n",
       "    }\n",
       "\n",
       "    .dataframe thead th {\n",
       "        text-align: right;\n",
       "    }\n",
       "</style>\n",
       "<table border=\"1\" class=\"dataframe\">\n",
       "  <thead>\n",
       "    <tr style=\"text-align: right;\">\n",
       "      <th></th>\n",
       "      <th>id</th>\n",
       "      <th>average_cost_for_two</th>\n",
       "      <th>book_url</th>\n",
       "      <th>cuisines</th>\n",
       "      <th>currency</th>\n",
       "      <th>deeplink</th>\n",
       "      <th>events_url</th>\n",
       "      <th>featured_image</th>\n",
       "      <th>has_online_delivery</th>\n",
       "      <th>has_table_booking</th>\n",
       "      <th>...</th>\n",
       "      <th>latitude</th>\n",
       "      <th>locality</th>\n",
       "      <th>locality_verbose</th>\n",
       "      <th>longitude</th>\n",
       "      <th>zipcode</th>\n",
       "      <th>aggregate_rating</th>\n",
       "      <th>rating_color</th>\n",
       "      <th>rating_text</th>\n",
       "      <th>votes</th>\n",
       "      <th>rating_numeric</th>\n",
       "    </tr>\n",
       "  </thead>\n",
       "  <tbody>\n",
       "  </tbody>\n",
       "</table>\n",
       "<p>0 rows × 36 columns</p>\n",
       "</div>"
      ],
      "text/plain": [
       "Empty DataFrame\n",
       "Columns: [id, average_cost_for_two, book_url, cuisines, currency, deeplink, events_url, featured_image, has_online_delivery, has_table_booking, include_bogo_offers, is_book_form_web_view, is_delivering_now, is_table_reservation_supported, is_zomato_book_res, menu_url, mezzo_provider, name, photos_url, price_range, thumb, url, address, city, city_id, country_id, latitude, locality, locality_verbose, longitude, zipcode, aggregate_rating, rating_color, rating_text, votes, rating_numeric]\n",
       "Index: []\n",
       "\n",
       "[0 rows x 36 columns]"
      ]
     },
     "execution_count": 15,
     "metadata": {},
     "output_type": "execute_result"
    }
   ],
   "source": [
    "merged_df[merged_df['has_online_delivery'] == 1]"
   ]
  },
  {
   "cell_type": "markdown",
   "id": "7f2c7aa3",
   "metadata": {
    "id": "7f2c7aa3"
   },
   "source": [
    "10. Which locatlity has more expensive food? Poblacion or Salcedo Village? **(3pts)** Write down your answer and show code used to come up with the answer.\n",
    "Salcedo Village would generally have more expensive food due to exhibiting higher measures of central tendency such as its mean and median of `average_cost_for_two`."
   ]
  },
  {
   "cell_type": "code",
   "execution_count": 16,
   "id": "8fb7ce16",
   "metadata": {
    "ExecuteTime": {
     "end_time": "2024-09-27T16:53:20.643508Z",
     "start_time": "2024-09-27T16:53:20.639290Z"
    },
    "id": "8fb7ce16"
   },
   "outputs": [
    {
     "data": {
      "text/plain": [
       "locality\n",
       "Salcedo Village    989.102564\n",
       "Poblacion          898.214286\n",
       "Name: average_cost_for_two, dtype: float64"
      ]
     },
     "execution_count": 16,
     "metadata": {},
     "output_type": "execute_result"
    }
   ],
   "source": [
    "#metric for more expensive food is defined to be the mean average_cost_for_two per locality\n",
    "\n",
    "merged_df[(merged_df[\"locality\"] == \"Poblacion\") | (merged_df[\"locality\"] == \"Salcedo Village\")].groupby('locality')['average_cost_for_two'].mean().sort_values(ascending=False)"
   ]
  },
  {
   "cell_type": "code",
   "execution_count": 17,
   "id": "9209e604ffe27282",
   "metadata": {
    "ExecuteTime": {
     "end_time": "2024-09-27T16:53:20.705995Z",
     "start_time": "2024-09-27T16:53:20.702120Z"
    }
   },
   "outputs": [
    {
     "data": {
      "text/plain": [
       "locality\n",
       "Salcedo Village    850.0\n",
       "Poblacion          800.0\n",
       "Name: average_cost_for_two, dtype: float64"
      ]
     },
     "execution_count": 17,
     "metadata": {},
     "output_type": "execute_result"
    }
   ],
   "source": [
    "merged_df[(merged_df[\"locality\"] == \"Poblacion\") | (merged_df[\"locality\"] == \"Salcedo Village\")].groupby('locality')['average_cost_for_two'].median().sort_values(ascending=False)"
   ]
  }
 ],
 "metadata": {
  "colab": {
   "provenance": []
  },
  "kernelspec": {
   "display_name": "Python 3",
   "language": "python",
   "name": "python3"
  },
  "language_info": {
   "codemirror_mode": {
    "name": "ipython",
    "version": 3
   },
   "file_extension": ".py",
   "mimetype": "text/x-python",
   "name": "python",
   "nbconvert_exporter": "python",
   "pygments_lexer": "ipython3",
   "version": "3.7.7"
  }
 },
 "nbformat": 4,
 "nbformat_minor": 5
}
